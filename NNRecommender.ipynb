{
 "cells": [
  {
   "cell_type": "code",
   "execution_count": 18,
   "metadata": {},
   "outputs": [],
   "source": [
    "\"\"\" NNRecommender.py\n",
    "    Script to develop a recommender system based on movielens data set.\n",
    "    Script uses 100k data set whcih can be found here\n",
    "    https://grouplens.org/datasets/movielens/100k/\n",
    "\"\"\"\n",
    "\n",
    "import numpy as np\n",
    "import pandas as pd\n",
    "\n",
    "#All the genres used to categorize movies. \n",
    "genreList = ['Unknown','Action','Adventure','Animation','Children','Comedy','Crime','Documentary','Drama','Fantasy','Film-Noir','Horror','Musical','Mystery','Romance','Sci-Fi','Thriller','War','Western']\n",
    "\n",
    "\"\"\" Users with the following columns of information\n",
    "    -ID\n",
    "    -Age\n",
    "    -Gender\n",
    "    -Occupation\n",
    "    -Zipcode\n",
    "\"\"\"\n",
    "users = pd.read_csv('./ml-100k/u.user',sep = '|',header = None, index_col=False, names = ['UserID','Age','Gender','Occupation','Zip-code'],engine='python')\n",
    "\n",
    "\"\"\" Movies with the following columns of information\n",
    "    -ID\n",
    "    -Title\n",
    "    -Release Date\n",
    "    -Video Date\n",
    "    -IMDBURL\n",
    "\"\"\"\n",
    "movies = pd.read_csv('./ml-100k/u.item',sep = '|',header = None, index_col=False, names = ['MovieID','Title','ReleaseDate','VideoDate','IMDBURL'] + genreList ,engine='python')\n",
    "\n",
    "\"\"\" All ratings with the following columns of information\n",
    "    -User ID\n",
    "    -Move ID\n",
    "    -Rating\n",
    "    -Time Stamp\n",
    "\"\"\"\n",
    "ratings = pd.read_csv('./ml-100k/u.data',sep = '\\t',header = None, index_col=False,names =['UserID','MovieID','Rating','Timestamp'] ,engine='python')\n",
    "\n",
    "#Drop unused data \n",
    "ratings = ratings.drop('Timestamp',axis=1)\n",
    "users = users.drop('Zip-code',axis=1)\n",
    "users = users.drop('Occupation',axis=1)\n",
    "\n",
    "#Reformat Gender \n",
    "users = users.replace(to_replace=['M','F'],value=[1,0])\n"
   ]
  },
  {
   "cell_type": "code",
   "execution_count": null,
   "metadata": {
    "collapsed": true
   },
   "outputs": [],
   "source": []
  },
  {
   "cell_type": "code",
   "execution_count": 2,
   "metadata": {},
   "outputs": [],
   "source": [
    "#Simple functions\n",
    "\n",
    "def get_ratings_mov(MovieID):\n",
    "    \"\"\" Get the dataframe object of all movie ratings for a given movie\n",
    "    \"\"\"\n",
    "    return ratings[ratings.MovieID == MovieID]\n",
    "\n",
    "def get_ratings_usr(UserID):\n",
    "    \"\"\" Get the dataframe object of all movie ratings for a given user\n",
    "    \"\"\"\n",
    "    return ratings[ratings.UserID == UserID]\n",
    "\n",
    "def get_rating_umv(UserID, MovieID):\n",
    "    \"\"\" Get the rating that a user gave a particular movie\n",
    "    \"\"\"\n",
    "    users = get_ratings_usr(UserID)\n",
    "    answer = users[users.MovieID == MovieID]\n",
    "    if answer.empty:\n",
    "        return None\n",
    "    return answer\n",
    "\n",
    "def get_movies_gnr(genre):\n",
    "    \"\"\" Get the dataframe object with all movies of a particular genre\n",
    "    \"\"\"\n",
    "    return movies[getattr(movies,genre) == 1]\n",
    "\n",
    "def get_users_age(Age):\n",
    "    \"\"\" Get the dataframe object with all userIDs of a particular age\n",
    "    \"\"\"\n",
    "    return users[users.Age == Age]\n",
    "\n",
    "def get_users_gnd(Gender):\n",
    "    \"\"\" Get the dataframe object with all userIDs of a particular gender\n",
    "    \"\"\"\n",
    "    return users[users.Gender == Gender]\n",
    "\n",
    "def get_users_usr(UserID):\n",
    "    \"\"\" Get the dataframe object with a particular users information\n",
    "    \"\"\"\n",
    "    return users[users.UserID == UserID]"
   ]
  },
  {
   "cell_type": "code",
   "execution_count": 14,
   "metadata": {
    "collapsed": true
   },
   "outputs": [],
   "source": [
    "def three_year_mean(user_ID,movie_ID):\n",
    "    \"\"\"Function used to find average rating for a movie in a chosen age range\n",
    "    \"\"\"\n",
    "    #Find user's age\n",
    "    user_age = get_users_usr(user_ID).Age.values[0]\n",
    "    \n",
    "    #Get all users within a year of the user's age\n",
    "    Xusers = get_users_age(user_age).append(get_users_age(user_age+1)).append(get_users_age(user_age-1))\n",
    "    \n",
    "    #Use only users, movies, and ratings\n",
    "    Yusers = pd.DataFrame(columns = ['UserID', 'MovieID', 'Rating'])\n",
    "    \n",
    "    #Loop through all rows of users within age range and get all their ratings\n",
    "    for ind,val in Xusers.iterrows():\n",
    "        Yusers = Yusers.append(ratings.loc[ratings['UserID'] == val[0]])\n",
    "        \n",
    "    #Find all the ratings for one given movie from users in age range and take average\n",
    "    Ydata = Yusers[Yusers.MovieID == movie_ID]\n",
    "    return np.mean(Ydata.Rating)"
   ]
  },
  {
   "cell_type": "code",
   "execution_count": 23,
   "metadata": {},
   "outputs": [],
   "source": [
    "def gender_mean(user_ID,movie_ID):\n",
    "    \"\"\"Function used to find average rating for a movie for one gender\n",
    "    \"\"\"\n",
    "    #Get gender of user\n",
    "    user_gnd = get_users_usr(user_ID).Gender.values[0]\n",
    "    \n",
    "    #Get all users of male or female\n",
    "    Xusers = get_users_gnd(user_gnd)\n",
    "    Yusers = pd.DataFrame(columns = ['UserID', 'MovieID', 'Rating'])\n",
    "    \n",
    "    #Loop through all rows of users of same gender and get their ratings\n",
    "    for ind,val in Xusers.iterrows():\n",
    "        Yusers = Yusers.append(ratings.loc[ratings['UserID'] == val[0]])\n",
    "        if ind > 100:\n",
    "            break\n",
    "            \n",
    "    #Find all ratings for one given movie from users with same gender and take average. \n",
    "    Ydata = Yusers[Yusers.MovieID == movie_ID]\n",
    "    return np.mean(Ydata.Rating)"
   ]
  },
  {
   "cell_type": "code",
   "execution_count": 24,
   "metadata": {
    "collapsed": true
   },
   "outputs": [],
   "source": [
    "def user_mean(user_ID):\n",
    "    \"\"\"Get average rating for a given user\n",
    "    \"\"\"\n",
    "    Ydata = get_ratings_usr(user_ID)\n",
    "    return np.mean(Ydata.Rating)\n",
    "def movie_mean(movie_ID):\n",
    "    \"\"\"Get average rating for a given movie\n",
    "    \"\"\"\n",
    "    Ydata = get_ratings_mov(movie_ID)\n",
    "    return np.mean(Ydata.Rating)"
   ]
  },
  {
   "cell_type": "code",
   "execution_count": 90,
   "metadata": {
    "collapsed": true
   },
   "outputs": [],
   "source": [
    "X = np.zeros((100000,4))\n",
    "Y = np.zeros((100000,1))\n",
    "for ind,val in ratings.iterrows():\n",
    "    if ind >= 100000:\n",
    "        break\n",
    "    user_ID = val[0]\n",
    "    movie_ID = val[1]\n",
    "    rt = val[2]\n",
    "    Y[ind] = rt\n",
    "    X[ind] = [three_year_mean(user_ID,movie_ID), gender_mean(user_ID,movie_ID), user_mean(user_ID),movie_mean(movie_ID)]\n",
    "X = np.nan_to_num(X)\n"
   ]
  },
  {
   "cell_type": "code",
   "execution_count": 91,
   "metadata": {
    "collapsed": true,
    "scrolled": true
   },
   "outputs": [],
   "source": [
    "from sklearn.model_selection import train_test_split\n",
    "X.reshape(30000,4)\n",
    "Y.reshape(30000,1)\n",
    "X_train, X_test, Y_train, Y_test = train_test_split(X,Y, test_size = 0.20)\n"
   ]
  },
  {
   "cell_type": "code",
   "execution_count": 114,
   "metadata": {},
   "outputs": [
    {
     "data": {
      "text/plain": [
       "MLPRegressor(activation='relu', alpha=0.0001, batch_size='auto', beta_1=0.9,\n",
       "       beta_2=0.999, early_stopping=False, epsilon=1e-08,\n",
       "       hidden_layer_sizes=(16, 12, 8, 4), learning_rate='constant',\n",
       "       learning_rate_init=0.001, max_iter=2000, momentum=0.9,\n",
       "       nesterovs_momentum=True, power_t=0.5, random_state=None,\n",
       "       shuffle=True, solver='adam', tol=0.0001, validation_fraction=0.1,\n",
       "       verbose=False, warm_start=False)"
      ]
     },
     "execution_count": 114,
     "metadata": {},
     "output_type": "execute_result"
    }
   ],
   "source": [
    "from sklearn.neural_network import MLPRegressor\n",
    "mlp = MLPRegressor(hidden_layer_sizes=(16,12,8,4),max_iter=2000)\n",
    "mlp.fit(X_train,Y_train.ravel())\n"
   ]
  },
  {
   "cell_type": "code",
   "execution_count": 117,
   "metadata": {},
   "outputs": [
    {
     "name": "stdout",
     "output_type": "stream",
     "text": [
      "0.85698151172\n",
      "0.67511105814\n"
     ]
    }
   ],
   "source": [
    "from sklearn.metrics import mean_squared_error, explained_variance_score\n",
    "\n",
    "predictions = mlp.predict(X_test)\n",
    "print(np.sqrt(mean_squared_error(Y_test,predictions)))\n",
    "print(np.sqrt( explained_variance_score(Y_test,predictions)))\n"
   ]
  },
  {
   "cell_type": "code",
   "execution_count": null,
   "metadata": {
    "collapsed": true
   },
   "outputs": [],
   "source": []
  }
 ],
 "metadata": {
  "kernelspec": {
   "display_name": "Python 3",
   "language": "python",
   "name": "python3"
  },
  "language_info": {
   "codemirror_mode": {
    "name": "ipython",
    "version": 3
   },
   "file_extension": ".py",
   "mimetype": "text/x-python",
   "name": "python",
   "nbconvert_exporter": "python",
   "pygments_lexer": "ipython3",
   "version": "3.6.2"
  }
 },
 "nbformat": 4,
 "nbformat_minor": 2
}
