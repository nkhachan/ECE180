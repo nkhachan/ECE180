{
 "cells": [
  {
   "cell_type": "code",
   "execution_count": 12,
   "metadata": {},
   "outputs": [],
   "source": [
    "import numpy as np\n",
    "import pandas as pd\n",
    "\n",
    "\n",
    "genreList = ['Unknown','Action','Adventure','Animation','Children','Comedy','Crime','Documentary','Drama','Fantasy','Film-Noir','Horror','Musical','Mystery','Romance','Sci-Fi','Thriller','War','Western']\n",
    "users = pd.read_csv('./ml-100k/u.user',sep = '|',header = None, index_col=False, names = ['UserID','Age','Gender','Occupation','Zip-code'],engine='python')\n",
    "movies = pd.read_csv('./ml-100k/u.item',sep = '|',header = None, index_col=False, names = ['MovieID','Title','ReleaseDate','VideoDate','IMDBURL'] + genreList ,engine='python')\n",
    "ratings = pd.read_csv('./ml-100k/u.data',sep = '\\t',header = None, index_col=False,names =['UserID','MovieID','Rating','Timestamp'] ,engine='python')\n",
    "ratings = ratings.drop('Timestamp',axis=1)\n",
    "users = users.drop('Zip-code',axis=1)\n",
    "users = users.drop('Occupation',axis=1)\n",
    "users = users.replace(to_replace=['M','F'],value=[1,0])\n"
   ]
  },
  {
   "cell_type": "code",
   "execution_count": 13,
   "metadata": {},
   "outputs": [],
   "source": [
    "def get_ratings_mov(MovieID):\n",
    "    answer = ratings[ratings.MovieID == MovieID]\n",
    "    return answer\n",
    "def get_ratings_usr(UserID):\n",
    "    answer = ratings[ratings.UserID == UserID]\n",
    "    return answer\n",
    "def get_rating_umv(UserID, MovieID):\n",
    "    users = get_ratings_usr(UserID)\n",
    "    answer = users[users.MovieID == MovieID]\n",
    "    if answer.empty:\n",
    "        return None\n",
    "    return answer\n",
    "def get_movies_gnr(genre):\n",
    "    answer = movies[getattr(movies,genre) == 1]\n",
    "    return answer\n",
    "def get_movies_mov(MovieID):\n",
    "    answer = movies[movies.MovieID == MovieID]\n",
    "    return answer\n",
    "def get_users_age(Age):\n",
    "    answer = users[users.Age == Age]\n",
    "    return answer\n",
    "def get_users_gnd(Gender):\n",
    "    answer = users[users.Gender == Gender]\n",
    "    return answer\n",
    "def get_users_usr(UserID):\n",
    "    answer = users[users.UserID == UserID]\n",
    "    return answer"
   ]
  },
  {
   "cell_type": "code",
   "execution_count": 14,
   "metadata": {},
   "outputs": [],
   "source": [
    "def three_year_mean(user_ID,movie_ID):\n",
    "    user_age = get_users_usr(user_ID).Age.values[0]\n",
    "    Xusers = get_users_age(user_age).append(get_users_age(user_age+1)).append(get_users_age(user_age-1))\n",
    "    Yusers = pd.DataFrame(columns = ['UserID', 'MovieID', 'Rating'])\n",
    "    for ind,val in Xusers.iterrows():\n",
    "        Yusers = Yusers.append(ratings.loc[ratings['UserID'] == val[0]])\n",
    "    Ydata = Yusers[Yusers.MovieID == movie_ID]\n",
    "    return np.mean(Ydata.Rating)"
   ]
  },
  {
   "cell_type": "code",
   "execution_count": 15,
   "metadata": {},
   "outputs": [],
   "source": [
    "def gender_mean(user_ID,movie_ID):\n",
    "    user_gnd = get_users_usr(user_ID).Gender.values[0]\n",
    "    Xusers = get_users_gnd(user_gnd)\n",
    "    Yusers = pd.DataFrame(columns = ['UserID', 'MovieID', 'Rating'])\n",
    "    for ind,val in Xusers.iterrows():\n",
    "        Yusers = Yusers.append(ratings.loc[ratings['UserID'] == val[0]])\n",
    "        if ind > 100:\n",
    "            break\n",
    "    Ydata = Yusers[Yusers.MovieID == movie_ID]\n",
    "    return np.mean(Ydata.Rating)"
   ]
  },
  {
   "cell_type": "code",
   "execution_count": 16,
   "metadata": {},
   "outputs": [],
   "source": [
    "def user_mean(user_ID):\n",
    "    Ydata = get_ratings_usr(user_ID)\n",
    "    return np.mean(Ydata.Rating)\n",
    "def movie_mean(movie_ID):\n",
    "    Ydata = get_ratings_mov(movie_ID)\n",
    "    return np.mean(Ydata.Rating)"
   ]
  },
  {
   "cell_type": "code",
   "execution_count": 90,
   "metadata": {},
   "outputs": [],
   "source": [
    "X = np.zeros((100000,4))\n",
    "Y = np.zeros((100000,1))\n",
    "for ind,val in ratings.iterrows():\n",
    "    if ind >= 100000:\n",
    "        break\n",
    "    user_ID = val[0]\n",
    "    movie_ID = val[1]\n",
    "    rt = val[2]\n",
    "    Y[ind] = rt\n",
    "    X[ind] = [three_year_mean(user_ID,movie_ID), gender_mean(user_ID,movie_ID), user_mean(user_ID),movie_mean(movie_ID)]\n",
    "X = np.nan_to_num(X)\n"
   ]
  },
  {
   "cell_type": "code",
   "execution_count": 91,
   "metadata": {
    "scrolled": true
   },
   "outputs": [],
   "source": [
    "from sklearn.model_selection import train_test_split\n",
    "X.reshape(30000,4)\n",
    "Y.reshape(30000,1)\n",
    "X_train, X_test, Y_train, Y_test = train_test_split(X,Y, test_size = 0.20)\n"
   ]
  },
  {
   "cell_type": "code",
   "execution_count": 114,
   "metadata": {},
   "outputs": [
    {
     "data": {
      "text/plain": [
       "MLPRegressor(activation='relu', alpha=0.0001, batch_size='auto', beta_1=0.9,\n",
       "       beta_2=0.999, early_stopping=False, epsilon=1e-08,\n",
       "       hidden_layer_sizes=(16, 12, 8, 4), learning_rate='constant',\n",
       "       learning_rate_init=0.001, max_iter=2000, momentum=0.9,\n",
       "       nesterovs_momentum=True, power_t=0.5, random_state=None,\n",
       "       shuffle=True, solver='adam', tol=0.0001, validation_fraction=0.1,\n",
       "       verbose=False, warm_start=False)"
      ]
     },
     "execution_count": 114,
     "metadata": {},
     "output_type": "execute_result"
    }
   ],
   "source": [
    "from sklearn.neural_network import MLPRegressor\n",
    "mlp = MLPRegressor(hidden_layer_sizes=(16,12,8,4),max_iter=2000)\n",
    "mlp.fit(X_train,Y_train.ravel())\n"
   ]
  },
  {
   "cell_type": "code",
   "execution_count": 117,
   "metadata": {},
   "outputs": [
    {
     "name": "stdout",
     "output_type": "stream",
     "text": [
      "0.85698151172\n",
      "0.67511105814\n"
     ]
    }
   ],
   "source": [
    "from sklearn.metrics import mean_squared_error, explained_variance_score\n",
    "\n",
    "predictions = mlp.predict(X_test)\n",
    "print(np.sqrt(mean_squared_error(Y_test,predictions)))\n",
    "print(np.sqrt( explained_variance_score(Y_test,predictions)))\n"
   ]
  },
  {
   "cell_type": "code",
   "execution_count": null,
   "metadata": {},
   "outputs": [],
   "source": []
  }
 ],
 "metadata": {
  "kernelspec": {
   "display_name": "Python 2",
   "language": "python",
   "name": "python2"
  },
  "language_info": {
   "codemirror_mode": {
    "name": "ipython",
    "version": 2
   },
   "file_extension": ".py",
   "mimetype": "text/x-python",
   "name": "python",
   "nbconvert_exporter": "python",
   "pygments_lexer": "ipython2",
   "version": "2.7.10"
  }
 },
 "nbformat": 4,
 "nbformat_minor": 2
}
